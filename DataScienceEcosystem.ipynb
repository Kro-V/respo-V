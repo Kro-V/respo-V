{
 "cells": [
  {
   "cell_type": "markdown",
   "id": "89d3ff00-cae9-4488-9d1e-6f9ffdfda2cf",
   "metadata": {},
   "source": []
  },
  {
   "cell_type": "markdown",
   "id": "33109e7e-74ac-4d89-a2e6-e4470d12dfd6",
   "metadata": {},
   "source": [
    "# Exercise 2: Create markdown cell with title of the notebook\n",
    "# Data Science Tools and Ecosystem"
   ]
  },
  {
   "cell_type": "markdown",
   "id": "68a6b6c5-5327-4edc-8b51-66408d5f2fea",
   "metadata": {},
   "source": [
    "# Exercise 3 - Create a markdown cell for an introduction\n",
    "### In this notebook, Data Science Tools and Ecosystem are summarized."
   ]
  },
  {
   "cell_type": "markdown",
   "id": "ea0a6a84-ef8e-40ba-a529-d2565e9ffbd1",
   "metadata": {},
   "source": [
    "# Exercise 4 - Create a markdown cell to list data science languages\n",
    "## Some of the popular languages that Data Scientists use are:\n",
    "1. Python\n",
    "2. R\n",
    "3. SQL\n",
    "4. Julia"
   ]
  },
  {
   "cell_type": "markdown",
   "id": "2bdd2dc6-144e-4283-b08e-12a5fff76e44",
   "metadata": {},
   "source": [
    "# Exercise 5 - Create a markdown cell to list data science libraries\n",
    "### Some of the commonly used libraries used by Data Scientists include:\n",
    "- Numpy\n",
    "- Pandas\n",
    "- Matplotlib\n",
    "- Seaborn\n"
   ]
  },
  {
   "cell_type": "code",
   "execution_count": null,
   "id": "953d687d-f8c9-43cc-b5fd-1168203d21ae",
   "metadata": {},
   "outputs": [],
   "source": []
  },
  {
   "cell_type": "code",
   "execution_count": null,
   "id": "eb3dac1e-a553-464c-8790-5846f199710c",
   "metadata": {},
   "outputs": [],
   "source": []
  },
  {
   "cell_type": "markdown",
   "id": "db7d5d46-97fc-484e-8516-d70b71d93579",
   "metadata": {},
   "source": [
    "# Exercise 6 - Create a markdown cell with a table of Data Science tools\n",
    "**| Data Science tools |**  \n",
    "| Jupyter notebook |  \n",
    "| RStudio |  \n",
    "| Visual Studio Code |"
   ]
  },
  {
   "cell_type": "markdown",
   "id": "cb1112ba-0d7e-4280-bc99-7ffb7622d5bf",
   "metadata": {},
   "source": [
    "# Exercise 7 - Create a markdown cell introducing arithmetic expression examples\n",
    "### Below are a few examples of evaluating arithmetic expressions in Python"
   ]
  },
  {
   "cell_type": "markdown",
   "id": "3145f64a-2211-4910-a801-aedaa53fb70d",
   "metadata": {},
   "source": [
    "# Exercise 8 - Create a code cell to multiply and add numbers\n",
    "*This a simple arithmetic expression to mutiply then add integers:*"
   ]
  },
  {
   "cell_type": "code",
   "execution_count": 6,
   "id": "33b084f2-d772-423c-9dba-eb300e5c7aee",
   "metadata": {},
   "outputs": [
    {
     "data": {
      "text/plain": [
       "17"
      ]
     },
     "execution_count": 6,
     "metadata": {},
     "output_type": "execute_result"
    }
   ],
   "source": [
    "(3*4)+5"
   ]
  },
  {
   "cell_type": "markdown",
   "id": "682e15af-c6a1-4e31-8e1b-bbb36b471b14",
   "metadata": {},
   "source": [
    "# Exercise 9 - Create a code cell to convert minutes to hours\n",
    "*This will convert 200 minutes to hours by diving by 60*"
   ]
  },
  {
   "cell_type": "code",
   "execution_count": 8,
   "id": "d3f0ccae-71fa-4ae0-9845-5518149dcd70",
   "metadata": {},
   "outputs": [
    {
     "name": "stdout",
     "output_type": "stream",
     "text": [
      "200 minutes is equal to 3 hours and 20 minutes\n"
     ]
    }
   ],
   "source": [
    "def convert_minutes_to_hours(minutes):\n",
    "    hours = minutes//60\n",
    "    remaining_minutes = minutes%60\n",
    "    return hours, remaining_minutes\n",
    "\n",
    "minutes = 200\n",
    "hours, remaining_minutes = convert_minutes_to_hours(minutes)\n",
    "print(f\"{minutes} minutes is equal to {hours} hours and {remaining_minutes} minutes\")"
   ]
  },
  {
   "cell_type": "markdown",
   "id": "5a40aa5a-d765-4f52-b9d0-82e7cd43e6dc",
   "metadata": {},
   "source": [
    "# Exercise 3 - Create a markdown cell for an introduction\n",
    "**List popular languages for Data Science**  \n",
    "- Python\n",
    "- SQL\n",
    "- R\n",
    "- Scala\n",
    "- Java"
   ]
  },
  {
   "cell_type": "markdown",
   "id": "9b90e750-ca59-4ce7-9d7c-bae9841856f2",
   "metadata": {},
   "source": [
    "# Exercise 11 - Create a markdown cell to indicate the Author's name\n",
    "## Author: \n",
    "Vinh Tran\n"
   ]
  },
  {
   "cell_type": "code",
   "execution_count": null,
   "id": "4b5b416c-ec0d-49d4-9d31-2a6453705ce0",
   "metadata": {},
   "outputs": [],
   "source": []
  }
 ],
 "metadata": {
  "kernelspec": {
   "display_name": "Python 3 (ipykernel)",
   "language": "python",
   "name": "python3"
  },
  "language_info": {
   "codemirror_mode": {
    "name": "ipython",
    "version": 3
   },
   "file_extension": ".py",
   "mimetype": "text/x-python",
   "name": "python",
   "nbconvert_exporter": "python",
   "pygments_lexer": "ipython3",
   "version": "3.11.9"
  }
 },
 "nbformat": 4,
 "nbformat_minor": 5
}
